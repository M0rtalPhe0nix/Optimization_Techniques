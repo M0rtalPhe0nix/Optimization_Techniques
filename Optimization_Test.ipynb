{
  "nbformat": 4,
  "nbformat_minor": 0,
  "metadata": {
    "colab": {
      "provenance": []
    },
    "kernelspec": {
      "name": "python3",
      "display_name": "Python 3"
    },
    "language_info": {
      "name": "python"
    }
  },
  "cells": [
    {
      "cell_type": "code",
      "source": [
        "import pandas as pd\n",
        "\n",
        "df = pd.read_csv(\"/content/MultiVarLR.csv\",header=None)\n",
        "X = df.iloc[:,:-1].to_numpy()\n",
        "y = df.iloc[:,[-1]].to_numpy()\n",
        "data = np.concatenate((np.ones(y.shape),X),axis=1)\n",
        "data.shape"
      ],
      "metadata": {
        "id": "D-ymp5yb2Bjh",
        "colab": {
          "base_uri": "https://localhost:8080/"
        },
        "outputId": "3a4d4be8-3368-4fef-b40d-7cd0dee2165e"
      },
      "execution_count": 13,
      "outputs": [
        {
          "output_type": "execute_result",
          "data": {
            "text/plain": [
              "(25, 4)"
            ]
          },
          "metadata": {},
          "execution_count": 13
        }
      ]
    },
    {
      "cell_type": "code",
      "source": [
        "class Linear_Regression:\n",
        "\n",
        "    def cost(target_label,predicted_label,m,batch_size,batch_number):\n",
        "        error_vector = predicted_label.T - target_label[batch_number:batch_number+batch_size]\n",
        "        cost = (np.linalg.norm(error_vector) ** 2) / (batch_size*2)\n",
        "        return cost,error_vector\n",
        "    def gradient_1(error_vector,data,m,batch_size,batch_number):\n",
        "        D_theta = (error_vector.T@data[batch_number:batch_number+batch_size]) / batch_size\n",
        "        return D_theta.T\n",
        "    def gradient_2(data, target_label):\n",
        "  \n",
        "        m = len(target_label)\n",
        "        D_theta_2 = (data.T@data)/m\n",
        "        return D_theta_2"
      ],
      "metadata": {
        "id": "PpBoTRPs5dDI"
      },
      "execution_count": 7,
      "outputs": []
    },
    {
      "cell_type": "code",
      "source": [
        "import numpy as np\n",
        "import matplotlib.pyplot as plt\n",
        "from math import ceil\n",
        "class SGD:\n",
        "\n",
        "    def __init__(self,data,target_label,function,first_derivative,batch_size,\n",
        "    learning_rate = 0.0005,max_iterations = 300, \n",
        "    stop_criteria = 0.001,convergance_criteria = 0.001) -> None:\n",
        "\n",
        "        self.data = data \n",
        "        self.target_label = target_label\n",
        "        self.function = function\n",
        "        self.first_derivative = first_derivative\n",
        "        self.batch_size = batch_size\n",
        "        self.learning_rate = learning_rate\n",
        "        self.max_iterations = max_iterations\n",
        "        self.stop_criteria = stop_criteria\n",
        "        self.convergance_criteria = convergance_criteria\n",
        "        self.costs = []\n",
        "    def Init_SGD(self,data,target_label):\n",
        "\n",
        "        m = self.data.shape[0]\n",
        "        n = self.data.shape[1] + 1\n",
        "        connected_array = np.concatenate((np.ones((m,1)),self.data,self.target_label), axis = 1)\n",
        "        np.random.shuffle(connected_array)\n",
        "        data = connected_array[:, :-1]\n",
        "        target_label = connected_array[:, [-1]]\n",
        "        return data,target_label,m,n\n",
        "    \n",
        "    def optimize(self):\n",
        "\n",
        "        self.data,self.target_label,m,n = self.Init_SGD(self.data,self.target_label)\n",
        "        c = ceil(m / self.batch_size)\n",
        "        theta = np.zeros((n,1))\n",
        "        for i in range(self.max_iterations):\n",
        "            for j in range(0,m,self.batch_size):\n",
        "                predicted_label = self.data[j:j+self.batch_size]@theta\n",
        "                predicted_label = predicted_label.T\n",
        "                cost,error_vector = self.function(self.target_label, predicted_label,m,self.batch_size,j)\n",
        "                self.costs.append(cost)\n",
        "                D_theta = self.first_derivative(error_vector,self.data,m,self.batch_size,j)\n",
        "\n",
        "                theta = theta - (self.learning_rate * D_theta)\n",
        "            if(np.linalg.norm(D_theta,2) < self.stop_criteria):break\n",
        "            if(i > 0):\n",
        "                if (abs(self.costs[i * c] - self.costs[(i-1) * c]) < self.convergance_criteria):break\n",
        "        return theta\n",
        "    \n",
        "    def loss_vs_epochs(self):\n",
        "        plt.figure(figsize=(10,8))\n",
        "        plt.grid()\n",
        "        plt.plot(range(len(self.costs)),self.costs)\n",
        "        plt.scatter(range(len(self.costs)),self.costs)"
      ],
      "metadata": {
        "id": "AECF1SHrBaVq"
      },
      "execution_count": 4,
      "outputs": []
    },
    {
      "cell_type": "code",
      "source": [
        "from sklearn.metrics import r2_score\n",
        "opt = SGD(X,y,Linear_Regression.cost,Linear_Regression.gradient_1,X.shape[0],0.0001)\n",
        "theta = opt.optimize()\n",
        "r2_score(y,data@theta)"
      ],
      "metadata": {
        "colab": {
          "base_uri": "https://localhost:8080/"
        },
        "id": "mTXfPV_vBhS8",
        "outputId": "19fa3713-5f85-4ff4-c430-51c81108819d"
      },
      "execution_count": 14,
      "outputs": [
        {
          "output_type": "execute_result",
          "data": {
            "text/plain": [
              "0.9857200176274099"
            ]
          },
          "metadata": {},
          "execution_count": 14
        }
      ]
    },
    {
      "cell_type": "code",
      "source": [
        "opt.loss_vs_epochs()"
      ],
      "metadata": {
        "colab": {
          "base_uri": "https://localhost:8080/",
          "height": 485
        },
        "id": "prWYS0hAB6DS",
        "outputId": "a9545250-4d7c-4b59-b355-7cc2264dedc5"
      },
      "execution_count": 11,
      "outputs": [
        {
          "output_type": "display_data",
          "data": {
            "text/plain": [
              "<Figure size 720x576 with 1 Axes>"
            ],
            "image/png": "[encoded data removed]"
          },
          "metadata": {
            "needs_background": "light"
          }
        }
      ]
    },
    {
      "cell_type": "code",
      "source": [
        "import numpy as np\n",
        "import matplotlib.pyplot as plt\n",
        "from math import ceil\n",
        "class SGD_with_Momentum:\n",
        "\n",
        "    def __init__(self,data,target_label,function,first_derivative,batch_size,\n",
        "    learning_rate = 0.0005,gamma = 0.9,max_iterations = 300, \n",
        "    stop_criteria = 0.001,convergance_criteria = 0.001) -> None:\n",
        "\n",
        "        self.data = data \n",
        "        self.target_label = target_label\n",
        "        self.function = function\n",
        "        self.first_derivative = first_derivative\n",
        "        self.batch_size = batch_size\n",
        "        self.learning_rate = learning_rate\n",
        "        self.max_iterations = max_iterations\n",
        "        self.stop_criteria = stop_criteria\n",
        "        self.convergance_criteria = convergance_criteria\n",
        "        self.gamma = gamma\n",
        "        self.costs = []\n",
        "    def Init_SGD(self,data,target_label):\n",
        "\n",
        "        m = self.data.shape[0]\n",
        "        n = self.data.shape[1] + 1\n",
        "        connected_array = np.concatenate((np.ones((m,1)),self.data,self.target_label), axis = 1)\n",
        "        np.random.shuffle(connected_array)\n",
        "        data = connected_array[:, :-1]\n",
        "        target_label = connected_array[:, [-1]]\n",
        "        return data,target_label,m,n\n",
        "    \n",
        "    def optimize(self):\n",
        "\n",
        "        self.data,self.target_label,m,n = self.Init_SGD(self.data,self.target_label)\n",
        "        c = ceil(m / self.batch_size)\n",
        "        theta = np.zeros((n,1))\n",
        "        v = np.zeros((n,1))\n",
        "        for i in range(self.max_iterations):\n",
        "            for j in range(0,m,self.batch_size):\n",
        "                predicted_label = self.data[j:j+self.batch_size]@theta\n",
        "                predicted_label = predicted_label.T\n",
        "                cost,error_vector = self.function(self.target_label, predicted_label,m,self.batch_size,j)\n",
        "                self.costs.append(cost)\n",
        "                D_theta = self.first_derivative(error_vector,self.data,m,self.batch_size,j)\n",
        "                v = self.gamma * v + self.learning_rate * D_theta\n",
        "                theta = theta - v\n",
        "            if(np.linalg.norm(D_theta,2) < self.stop_criteria):break\n",
        "            if(i > 0):\n",
        "                if (abs(self.costs[i * c] - self.costs[(i-1) * c]) < self.convergance_criteria):break\n",
        "        return theta\n",
        "    \n",
        "    def loss_vs_epochs(self):\n",
        "        plt.figure(figsize=(10,8))\n",
        "        plt.grid()\n",
        "        plt.plot(range(len(self.costs)),self.costs)\n",
        "        plt.scatter(range(len(self.costs)),self.costs)\n",
        "\n",
        "\n",
        "class Linear_Regression:\n",
        "\n",
        "    def cost(target_label,predicted_label,m,batch_size,batch_number):\n",
        "        error_vector = predicted_label.T - target_label[batch_number:batch_number+batch_size]\n",
        "        cost = (np.linalg.norm(error_vector) ** 2) / (batch_size*2)\n",
        "        return cost,error_vector\n",
        "    def gradient_1(error_vector,data,m,batch_size,batch_number):\n",
        "        D_theta = (error_vector.T@data[batch_number:batch_number+batch_size]) / batch_size\n",
        "        return D_theta.T\n",
        "\n"
      ],
      "metadata": {
        "id": "4ga179B0Cocg"
      },
      "execution_count": 15,
      "outputs": []
    },
    {
      "cell_type": "code",
      "source": [
        "\n",
        "opt = SGD_with_Momentum(X,y,Linear_Regression.cost,Linear_Regression.gradient_1,X.shape[0],0.0001,0.9)\n",
        "theta = opt.optimize()\n",
        "r2_score(y,data@theta)"
      ],
      "metadata": {
        "colab": {
          "base_uri": "https://localhost:8080/"
        },
        "id": "VERB4SlSDkQ7",
        "outputId": "d84677c0-9aae-462c-f187-c6a2b22aa48e"
      },
      "execution_count": 18,
      "outputs": [
        {
          "output_type": "execute_result",
          "data": {
            "text/plain": [
              "0.9889441300459034"
            ]
          },
          "metadata": {},
          "execution_count": 18
        }
      ]
    },
    {
      "cell_type": "code",
      "source": [
        "opt.loss_vs_epochs()"
      ],
      "metadata": {
        "colab": {
          "base_uri": "https://localhost:8080/",
          "height": 485
        },
        "id": "0Iz3PK_4D1zc",
        "outputId": "561befc9-a189-48d4-bda2-f258245d0a90"
      },
      "execution_count": 19,
      "outputs": [
        {
          "output_type": "display_data",
          "data": {
            "text/plain": [
              "<Figure size 720x576 with 1 Axes>"
            ],
            "image/png": "[encoded data removed]"
          },
          "metadata": {
            "needs_background": "light"
          }
        }
      ]
    },
    {
      "cell_type": "code",
      "source": [
        "import numpy as np\n",
        "import matplotlib.pyplot as plt\n",
        "from math import ceil\n",
        "class SGD_with_NAG:\n",
        "\n",
        "    def __init__(self,data,target_label,function,first_derivative,batch_size,\n",
        "    learning_rate = 0.0005,gamma = 0.9,max_iterations = 300, \n",
        "    stop_criteria = 0.001,convergance_criteria = 0.001) -> None:\n",
        "\n",
        "        self.data = data \n",
        "        self.target_label = target_label\n",
        "        self.function = function\n",
        "        self.first_derivative = first_derivative\n",
        "        self.batch_size = batch_size\n",
        "        self.learning_rate = learning_rate\n",
        "        self.max_iterations = max_iterations\n",
        "        self.stop_criteria = stop_criteria\n",
        "        self.convergance_criteria = convergance_criteria\n",
        "        self.gamma = gamma\n",
        "        self.costs = []\n",
        "    def Init_SGD(self,data,target_label):\n",
        "\n",
        "        m = self.data.shape[0]\n",
        "        n = self.data.shape[1] + 1\n",
        "        connected_array = np.concatenate((np.ones((m,1)),self.data,self.target_label), axis = 1)\n",
        "        np.random.shuffle(connected_array)\n",
        "        data = connected_array[:, :-1]\n",
        "        target_label = connected_array[:, [-1]]\n",
        "        return data,target_label,m,n\n",
        "    \n",
        "    def optimize(self):\n",
        "\n",
        "        self.data,self.target_label,m,n = self.Init_SGD(self.data,self.target_label)\n",
        "        c = ceil(m / self.batch_size)\n",
        "        theta = np.zeros((n,1))\n",
        "        v = np.zeros((n,1))\n",
        "        for i in range(self.max_iterations):\n",
        "            for j in range(0,m,self.batch_size):\n",
        "                theta_temp = theta - self.gamma * v\n",
        "                predicted_label = self.data[j:j+self.batch_size]@theta_temp\n",
        "                predicted_label = predicted_label.T\n",
        "                cost,error_vector = self.function(self.target_label, predicted_label,m,self.batch_size,j)\n",
        "                self.costs.append(cost)\n",
        "                D_theta_temp = self.first_derivative(error_vector,self.data,m,self.batch_size,j)\n",
        "                theta =  theta - (self.learning_rate*D_theta_temp)\n",
        "                v = self.gamma * v + (self.learning_rate*D_theta_temp)\n",
        "            if(np.linalg.norm(D_theta_temp,2) < self.stop_criteria):break\n",
        "            if(i > 0):\n",
        "                if (abs(self.costs[i * c] - self.costs[(i-1) * c]) < self.convergance_criteria):break\n",
        "        return theta\n",
        "    \n",
        "    def loss_vs_epochs(self):\n",
        "        plt.figure(figsize=(10,8))\n",
        "        plt.grid()\n",
        "        plt.plot(range(len(self.costs)),self.costs)\n",
        "        plt.scatter(range(len(self.costs)),self.costs)\n",
        "\n",
        "\n",
        "class Linear_Regression:\n",
        "\n",
        "    def cost(target_label,predicted_label,m,batch_size,batch_number):\n",
        "        error_vector = predicted_label.T - target_label[batch_number:batch_number+batch_size]\n",
        "        cost = (np.linalg.norm(error_vector) ** 2) / (batch_size*2)\n",
        "        return cost,error_vector\n",
        "    def gradient_1(error_vector,data,m,batch_size,batch_number):\n",
        "        D_theta = (error_vector.T@data[batch_number:batch_number+batch_size]) / batch_size\n",
        "        return D_theta.T\n"
      ],
      "metadata": {
        "id": "Gxj_6hjND6Nw"
      },
      "execution_count": 20,
      "outputs": []
    },
    {
      "cell_type": "code",
      "source": [
        "opt = SGD_with_NAG(X,y,Linear_Regression.cost,Linear_Regression.gradient_1,X.shape[0],0.00001,0.9)\n",
        "theta = opt.optimize()\n",
        "r2_score(y,data@theta)"
      ],
      "metadata": {
        "colab": {
          "base_uri": "https://localhost:8080/"
        },
        "id": "fLbUgQncEMgL",
        "outputId": "9dfb8fe6-61e5-4015-ed7e-9857ed7d0561"
      },
      "execution_count": 44,
      "outputs": [
        {
          "output_type": "execute_result",
          "data": {
            "text/plain": [
              "0.97966557827931"
            ]
          },
          "metadata": {},
          "execution_count": 44
        }
      ]
    },
    {
      "cell_type": "code",
      "source": [
        "opt.loss_vs_epochs()"
      ],
      "metadata": {
        "colab": {
          "base_uri": "https://localhost:8080/",
          "height": 485
        },
        "id": "ohsbgIsDEVmS",
        "outputId": "57fa1912-2578-4c20-91cc-d3a43c841520"
      },
      "execution_count": 45,
      "outputs": [
        {
          "output_type": "display_data",
          "data": {
            "text/plain": [
              "<Figure size 720x576 with 1 Axes>"
            ],
            "image/png": "[encoded data removed]"
          },
          "metadata": {
            "needs_background": "light"
          }
        }
      ]
    },
    {
      "cell_type": "code",
      "source": [
        "import numpy as np\n",
        "import matplotlib.pyplot as plt\n",
        "from math import ceil\n",
        "class SGD_with_AdaGrad:\n",
        "\n",
        "    def __init__(self,data,target_label,function,first_derivative,batch_size,\n",
        "    learning_rate = 0.0005,epsilon = 1e-8,max_iterations = 300, \n",
        "    stop_criteria = 0.001,convergance_criteria = 0.001) -> None:\n",
        "\n",
        "        self.data = data \n",
        "        self.target_label = target_label\n",
        "        self.function = function\n",
        "        self.first_derivative = first_derivative\n",
        "        self.batch_size = batch_size\n",
        "        self.learning_rate = learning_rate\n",
        "        self.max_iterations = max_iterations\n",
        "        self.stop_criteria = stop_criteria\n",
        "        self.convergance_criteria = convergance_criteria\n",
        "        self.epsilon = epsilon\n",
        "        self.costs = []\n",
        "    def Init_SGD(self,data,target_label):\n",
        "\n",
        "        m = self.data.shape[0]\n",
        "        n = self.data.shape[1] + 1\n",
        "        connected_array = np.concatenate((np.ones((m,1)),self.data,self.target_label), axis = 1)\n",
        "        np.random.shuffle(connected_array)\n",
        "        data = connected_array[:, :-1]\n",
        "        target_label = connected_array[:, [-1]]\n",
        "        return data,target_label,m,n\n",
        "    \n",
        "    def optimize(self):\n",
        "\n",
        "        self.data,self.target_label,m,n = self.Init_SGD(self.data,self.target_label)\n",
        "        c = ceil(m / self.batch_size)\n",
        "        theta = np.zeros((n,1))\n",
        "        v = np.zeros((n,1))\n",
        "        for i in range(self.max_iterations):\n",
        "            for j in range(0,m,self.batch_size):\n",
        "                predicted_label = self.data[j:j+self.batch_size]@theta\n",
        "                predicted_label = predicted_label.T\n",
        "                cost,error_vector = self.function(self.target_label, predicted_label,m,self.batch_size,j)\n",
        "                self.costs.append(cost)\n",
        "                D_theta = self.first_derivative(error_vector,self.data,m,self.batch_size,j)\n",
        "                v = v + D_theta ** 2\n",
        "                theta = theta - ((self.learning_rate / (np.sqrt(v) + self.epsilon)) * D_theta)\n",
        "            if(np.linalg.norm(D_theta,2) < self.stop_criteria):break\n",
        "            if(i > 0):\n",
        "                if (abs(self.costs[i * c] - self.costs[(i-1) * c]) < self.convergance_criteria):break\n",
        "        return theta\n",
        "    \n",
        "    def loss_vs_epochs(self):\n",
        "        plt.figure(figsize=(10,8))\n",
        "        plt.grid()\n",
        "        plt.plot(range(len(self.costs)),self.costs)\n",
        "        plt.scatter(range(len(self.costs)),self.costs)\n",
        "\n",
        "\n",
        "class Linear_Regression:\n",
        "\n",
        "    def cost(target_label,predicted_label,m,batch_size,batch_number):\n",
        "        error_vector = predicted_label.T - target_label[batch_number:batch_number+batch_size]\n",
        "        cost = (np.linalg.norm(error_vector) ** 2) / (batch_size*2)\n",
        "        return cost,error_vector\n",
        "    def gradient_1(error_vector,data,m,batch_size,batch_number):\n",
        "        D_theta = (error_vector.T@data[batch_number:batch_number+batch_size]) / batch_size\n",
        "        return D_theta.T\n",
        "\n"
      ],
      "metadata": {
        "id": "Ibkc0bLtEnzX"
      },
      "execution_count": 46,
      "outputs": []
    },
    {
      "cell_type": "code",
      "source": [
        "opt = SGD_with_AdaGrad(X,y,Linear_Regression.cost,Linear_Regression.gradient_1,X.shape[0],0.05,1e-10)\n",
        "theta = opt.optimize()\n",
        "r2_score(y,data@theta)"
      ],
      "metadata": {
        "colab": {
          "base_uri": "https://localhost:8080/"
        },
        "id": "JWMTEPGlFwO7",
        "outputId": "33194867-8199-40ef-9207-6f2eaca6cdfc"
      },
      "execution_count": 54,
      "outputs": [
        {
          "output_type": "execute_result",
          "data": {
            "text/plain": [
              "0.9780071656748724"
            ]
          },
          "metadata": {},
          "execution_count": 54
        }
      ]
    },
    {
      "cell_type": "code",
      "source": [
        "opt.loss_vs_epochs()"
      ],
      "metadata": {
        "colab": {
          "base_uri": "https://localhost:8080/",
          "height": 485
        },
        "id": "I9ZGxSXHF_tP",
        "outputId": "7f21a91a-9d6d-4006-c633-6ae718c7b7dc"
      },
      "execution_count": 55,
      "outputs": [
        {
          "output_type": "display_data",
          "data": {
            "text/plain": [
              "<Figure size 720x576 with 1 Axes>"
            ],
            "image/png": "[encoded data removed]"
          },
          "metadata": {
            "needs_background": "light"
          }
        }
      ]
    },
    {
      "cell_type": "code",
      "source": [
        "import numpy as np\n",
        "import matplotlib.pyplot as plt\n",
        "from math import ceil\n",
        "class SGD_with_RMSProb:\n",
        "\n",
        "    def __init__(self,data,target_label,function,first_derivative,batch_size,\n",
        "    learning_rate = 0.0005,beta = 0.9,epsilon = 1e-8,max_iterations = 300, \n",
        "    stop_criteria = 0.001,convergance_criteria = 0.001) -> None:\n",
        "\n",
        "        self.data = data \n",
        "        self.target_label = target_label\n",
        "        self.function = function\n",
        "        self.first_derivative = first_derivative\n",
        "        self.batch_size = batch_size\n",
        "        self.learning_rate = learning_rate\n",
        "        self.max_iterations = max_iterations\n",
        "        self.stop_criteria = stop_criteria\n",
        "        self.convergance_criteria = convergance_criteria\n",
        "        self.epsilon = epsilon\n",
        "        self.beta = beta\n",
        "        self.costs = []\n",
        "    def Init_SGD(self,data,target_label):\n",
        "\n",
        "        m = self.data.shape[0]\n",
        "        n = self.data.shape[1] + 1\n",
        "        connected_array = np.concatenate((np.ones((m,1)),self.data,self.target_label), axis = 1)\n",
        "        np.random.shuffle(connected_array)\n",
        "        data = connected_array[:, :-1]\n",
        "        target_label = connected_array[:, [-1]]\n",
        "        return data,target_label,m,n\n",
        "    \n",
        "    def optimize(self):\n",
        "\n",
        "        self.data,self.target_label,m,n = self.Init_SGD(self.data,self.target_label)\n",
        "        c = ceil(m / self.batch_size)\n",
        "        theta = np.zeros((n,1))\n",
        "        v = np.zeros((n,1))\n",
        "        for i in range(self.max_iterations):\n",
        "            for j in range(0,m,self.batch_size):\n",
        "                predicted_label = self.data[j:j+self.batch_size]@theta\n",
        "                predicted_label = predicted_label.T\n",
        "                cost,error_vector = self.function(self.target_label, predicted_label,m,self.batch_size,j)\n",
        "                self.costs.append(cost)\n",
        "                D_theta = self.first_derivative(error_vector,self.data,m,self.batch_size,j)\n",
        "                v = self.beta * v + (1-self.beta)*D_theta ** 2\n",
        "                theta = theta - ((self.learning_rate / (np.sqrt(v) + self.epsilon)) * D_theta)\n",
        "            if(np.linalg.norm(D_theta,2) < self.stop_criteria):break\n",
        "            if(i > 0):\n",
        "                if (abs(self.costs[i * c] - self.costs[(i-1) * c]) < self.convergance_criteria):break\n",
        "        return theta\n",
        "    \n",
        "    def loss_vs_epochs(self):\n",
        "        plt.figure(figsize=(10,8))\n",
        "        plt.grid()\n",
        "        plt.plot(range(len(self.costs)),self.costs)\n",
        "        plt.scatter(range(len(self.costs)),self.costs)\n",
        "\n",
        "\n",
        "class Linear_Regression:\n",
        "\n",
        "    def cost(target_label,predicted_label,m,batch_size,batch_number):\n",
        "        error_vector = predicted_label.T - target_label[batch_number:batch_number+batch_size]\n",
        "        cost = (np.linalg.norm(error_vector) ** 2) / (batch_size*2)\n",
        "        return cost,error_vector\n",
        "    def gradient_1(error_vector,data,m,batch_size,batch_number):\n",
        "        D_theta = (error_vector.T@data[batch_number:batch_number+batch_size]) / batch_size\n",
        "        return D_theta.T"
      ],
      "metadata": {
        "id": "NItmxWg9GHAq"
      },
      "execution_count": 56,
      "outputs": []
    },
    {
      "cell_type": "code",
      "source": [
        "opt = SGD_with_RMSProb(X,y,Linear_Regression.cost,Linear_Regression.gradient_1,X.shape[0],0.005,0.9)\n",
        "theta = opt.optimize()\n",
        "r2_score(y,data@theta)"
      ],
      "metadata": {
        "colab": {
          "base_uri": "https://localhost:8080/"
        },
        "id": "x0eQ9cmfGcBe",
        "outputId": "f68ee2e9-73d4-413f-dcd0-9fb9302d9238"
      },
      "execution_count": 63,
      "outputs": [
        {
          "output_type": "execute_result",
          "data": {
            "text/plain": [
              "0.982004807647148"
            ]
          },
          "metadata": {},
          "execution_count": 63
        }
      ]
    },
    {
      "cell_type": "code",
      "source": [
        "opt.loss_vs_epochs()"
      ],
      "metadata": {
        "colab": {
          "base_uri": "https://localhost:8080/",
          "height": 485
        },
        "id": "XREbcsA-GqvX",
        "outputId": "948fb3f7-c26f-49ae-b0b0-abff735396c9"
      },
      "execution_count": 64,
      "outputs": [
        {
          "output_type": "display_data",
          "data": {
            "text/plain": [
              "<Figure size 720x576 with 1 Axes>"
            ],
            "image/png": "[encoded data removed]"
          },
          "metadata": {
            "needs_background": "light"
          }
        }
      ]
    },
    {
      "cell_type": "code",
      "source": [
        "import numpy as np\n",
        "import matplotlib.pyplot as plt\n",
        "from math import ceil\n",
        "class SGD_with_Adam:\n",
        "\n",
        "    def __init__(self,data,target_label,function,first_derivative,batch_size,\n",
        "    learning_rate = 0.0005,beta1 = 0.9,beta2 = 0.1,epsilon = 1e-8,max_iterations = 300, \n",
        "    stop_criteria = 0.001,convergance_criteria = 0.001) -> None:\n",
        "\n",
        "        self.data = data \n",
        "        self.target_label = target_label\n",
        "        self.function = function\n",
        "        self.first_derivative = first_derivative\n",
        "        self.batch_size = batch_size\n",
        "        self.learning_rate = learning_rate\n",
        "        self.max_iterations = max_iterations\n",
        "        self.stop_criteria = stop_criteria\n",
        "        self.convergance_criteria = convergance_criteria\n",
        "        self.epsilon = epsilon\n",
        "        self.beta1 = beta1\n",
        "        self.beta2 = beta2\n",
        "        self.costs = []\n",
        "    def Init_SGD(self,data,target_label):\n",
        "\n",
        "        m = self.data.shape[0]\n",
        "        n = self.data.shape[1] + 1\n",
        "        connected_array = np.concatenate((np.ones((m,1)),self.data,self.target_label), axis = 1)\n",
        "        np.random.shuffle(connected_array)\n",
        "        data = connected_array[:, :-1]\n",
        "        target_label = connected_array[:, [-1]]\n",
        "        return data,target_label,int(m),int(n)\n",
        "    \n",
        "    def optimize(self):\n",
        "\n",
        "        self.data,self.target_label,m,n = self.Init_SGD(self.data,self.target_label)\n",
        "        c = ceil(m / self.batch_size)\n",
        "        theta = np.zeros((n,1))\n",
        "        v = np.zeros((n,1))\n",
        "        mt = np.zeros((n,1))\n",
        "        for i in range(self.max_iterations):\n",
        "            for j in range(0,m,self.batch_size):\n",
        "                predicted_label = self.data[j:j+self.batch_size]@theta\n",
        "                predicted_label = predicted_label.T\n",
        "                cost,error_vector = self.function(self.target_label, predicted_label,m,self.batch_size,j)\n",
        "                self.costs.append(cost)\n",
        "                D_theta = self.first_derivative(error_vector,self.data,m,self.batch_size,j)\n",
        "                mt = self.beta1 * mt + ((1 - self.beta1) * D_theta)\n",
        "                v = self.beta2 * v + (1 - self.beta2) * D_theta ** 2\n",
        "                mt = mt / (1-(self.beta1**(i+1)))\n",
        "                v = v / (1-(self.beta2**(i+1)))\n",
        "                theta = theta - ((self.learning_rate / (np.sqrt(v) + self.epsilon)) * mt)\n",
        "            if(np.linalg.norm(D_theta,2) < self.stop_criteria):break\n",
        "            if(i > 0):\n",
        "                if (abs(self.costs[i * c] - self.costs[(i-1) * c]) < self.convergance_criteria):break\n",
        "        return theta\n",
        "    \n",
        "    def loss_vs_epochs(self):\n",
        "        plt.figure(figsize=(10,8))\n",
        "        plt.grid()\n",
        "        plt.plot(range(len(self.costs)),self.costs)\n",
        "        plt.scatter(range(len(self.costs)),self.costs)\n",
        "\n",
        "\n",
        "class Linear_Regression:\n",
        "\n",
        "    def cost(target_label,predicted_label,m,batch_size,batch_number):\n",
        "        error_vector = predicted_label.T - target_label[batch_number:batch_number+batch_size]\n",
        "        cost = (np.linalg.norm(error_vector) ** 2) / (batch_size*2)\n",
        "        return cost,error_vector\n",
        "    def gradient_1(error_vector,data,m,batch_size,batch_number):\n",
        "        D_theta = (error_vector.T@data[batch_number:batch_number+batch_size]) / batch_size\n",
        "        return D_theta.T"
      ],
      "metadata": {
        "id": "zIBRRnvJGxOj"
      },
      "execution_count": 65,
      "outputs": []
    },
    {
      "cell_type": "code",
      "source": [
        "opt = SGD_with_Adam(X,y,Linear_Regression.cost,Linear_Regression.gradient_1,X.shape[0],0.01,0.6,0.9)\n",
        "theta = opt.optimize()\n",
        "r2_score(y,data@theta)"
      ],
      "metadata": {
        "colab": {
          "base_uri": "https://localhost:8080/"
        },
        "id": "fqAsWohTHPzG",
        "outputId": "7b3fd376-fc18-406d-c2c8-54d4f0bab170"
      },
      "execution_count": 78,
      "outputs": [
        {
          "output_type": "execute_result",
          "data": {
            "text/plain": [
              "0.9782874196387509"
            ]
          },
          "metadata": {},
          "execution_count": 78
        }
      ]
    },
    {
      "cell_type": "code",
      "source": [
        "opt.loss_vs_epochs()"
      ],
      "metadata": {
        "colab": {
          "base_uri": "https://localhost:8080/",
          "height": 485
        },
        "id": "gHHRW3cbHhly",
        "outputId": "c497826c-c9e2-4ed6-bd3c-6ca842267706"
      },
      "execution_count": 79,
      "outputs": [
        {
          "output_type": "display_data",
          "data": {
            "text/plain": [
              "<Figure size 720x576 with 1 Axes>"
            ],
            "image/png": "[encoded data removed]"
          },
          "metadata": {
            "needs_background": "light"
          }
        }
      ]
    },
    {
      "cell_type": "code",
      "source": [
        "import numpy as np\n",
        "import matplotlib.pyplot as plt\n",
        "class Newton_GD:\n",
        "  def __init__(self,data,target_label,first_derivative,second_derivative,\n",
        "    learning_rate = 1,epochs = 300, \n",
        "    stop_criteria = 0.001,convergance_criteria = 0.001) -> None:\n",
        "\n",
        "        self.data = data \n",
        "        self.target_label = target_label\n",
        "        self.first_derivative = first_derivative\n",
        "        self.second_derivative = second_derivative\n",
        "        self.learning_rate = learning_rate\n",
        "        self.epochs = epochs\n",
        "        self.stop_criteria = stop_criteria\n",
        "        self.convergance_criteria = convergance_criteria\n",
        "        self.costs = []\n",
        "  def optimize(self):\n",
        "    m = self.data.shape[0]\n",
        "    n = self.data.shape[1] + 1\n",
        "    self.data = np.concatenate((np.ones((m,1)),self.data), axis = 1)\n",
        "    grad = np.zeros((n,1))\n",
        "    theta = np.zeros((n,1))\n",
        "    for i in range(self.epochs):\n",
        "      theta = theta - (self.learning_rate * grad.T @ np.linalg.inv(self.second_derivative(self.data))).T\n",
        "      grad ,cost = self.first_derivative(self.data,self.target_label,theta)\n",
        "      self.costs.append(cost)\n",
        "      if(np.linalg.norm(grad) <= self.stop_criteria):return i,theta,grad\n",
        "      if(i > 0):\n",
        "        if (abs(self.costs[i] - self.costs[(i-1)]) < self.convergance_criteria):return i,theta,grad\n",
        "    return self.epochs,grad,theta\n",
        "  def loss_vs_epochs(self):\n",
        "        plt.figure(figsize=(10,8))\n",
        "        plt.grid()\n",
        "        plt.plot(range(len(self.costs)),self.costs)\n",
        "        plt.scatter(range(len(self.costs)),self.costs)\n",
        "\n",
        "class Linear_Regression:\n",
        "\n",
        "    def cost(target_label,predicted_label,m):\n",
        "        error_vector = predicted_label.T - target_label\n",
        "        cost = (np.linalg.norm(error_vector) ** 2) / (m*2)\n",
        "        return cost,error_vector\n",
        "    def gradient_1(data,target_label,theta):\n",
        "        m = data.shape[0]\n",
        "        predicted_label = data@theta\n",
        "  #predicted_label = predicted_label.T\n",
        "        error_vector = predicted_label - target_label\n",
        "        cost = (np.linalg.norm(error_vector) ** 2) / (m*2)\n",
        "        D_theta = (error_vector.T@data) / m\n",
        "        return D_theta.T,cost\n",
        "    def gradient_2(data):\n",
        "        m = data.shape[0]\n",
        "        D_theta_2 = data.T@data / m\n",
        "        return D_theta_2\n"
      ],
      "metadata": {
        "id": "yk0zg8bmH2bj"
      },
      "execution_count": 80,
      "outputs": []
    },
    {
      "cell_type": "code",
      "source": [
        "opt = Newton_GD(X,y,Linear_Regression.gradient_1,Linear_Regression.gradient_2,)\n",
        "i,theta,grad = opt.optimize()\n",
        "r2_score(y,data@theta)"
      ],
      "metadata": {
        "colab": {
          "base_uri": "https://localhost:8080/"
        },
        "id": "xyfgHQsoIINV",
        "outputId": "6becdcc3-2dbc-475e-c475-c6a1860d5146"
      },
      "execution_count": 84,
      "outputs": [
        {
          "output_type": "execute_result",
          "data": {
            "text/plain": [
              "0.9896615789448399"
            ]
          },
          "metadata": {},
          "execution_count": 84
        }
      ]
    },
    {
      "cell_type": "code",
      "source": [
        "opt.loss_vs_epochs()"
      ],
      "metadata": {
        "colab": {
          "base_uri": "https://localhost:8080/",
          "height": 485
        },
        "id": "AZhVBdY7IiM7",
        "outputId": "cee3089a-11f6-4990-c2ae-9e3e5d4eccc1"
      },
      "execution_count": 85,
      "outputs": [
        {
          "output_type": "display_data",
          "data": {
            "text/plain": [
              "<Figure size 720x576 with 1 Axes>"
            ],
            "image/png": "[encoded data removed]"
          },
          "metadata": {
            "needs_background": "light"
          }
        }
      ]
    },
    {
      "cell_type": "code",
      "source": [
        "import numpy as np\n",
        "import matplotlib.pyplot as plt\n",
        "class BFGS:\n",
        "  \n",
        "  def __init__(self,data,target_label,first_derivative,\n",
        "    learning_rate = 1,epochs = 300, \n",
        "    stop_criteria = 0.001,convergance_criteria = 0.001) -> None:\n",
        "\n",
        "        self.data = data \n",
        "        self.target_label = target_label\n",
        "        self.first_derivative = first_derivative\n",
        "        self.learning_rate = learning_rate\n",
        "        self.epochs = epochs\n",
        "        self.stop_criteria = stop_criteria\n",
        "        self.convergance_criteria = convergance_criteria\n",
        "        self.costs = []\n",
        "  \n",
        "  def optimize(self):\n",
        "    m = self.data.shape[0]\n",
        "    n = self.data.shape[1] + 1\n",
        "    self.data = np.concatenate((np.ones((m,1)),self.data), axis = 1)\n",
        "    current_theta = np.zeros((n,1))\n",
        "    previous_theta = 0.1 * np.ones((n,1))\n",
        "    current_grad,_ = self.first_derivative(self.data,self.target_label,current_theta)\n",
        "    previous_grad,__ = self.first_derivative(self.data,self.target_label,previous_theta)\n",
        "    i = 0\n",
        "    B_inv = np.eye(n)\n",
        "\n",
        "    while(i < self.epochs and np.linalg.norm(current_grad) >= self.stop_criteria and abs(_ - __) >= self.convergance_criteria):\n",
        "        self.costs.append(_)\n",
        "        delta_theta = current_theta - previous_theta\n",
        "        delta_grad = current_grad - previous_grad\n",
        "        delta_grad = delta_grad.T\n",
        "        B_inv = (np.eye(n) - (delta_theta@delta_grad)/(delta_grad@delta_theta))@B_inv@((np.eye(n) - (delta_grad.T@delta_theta.T)/(delta_grad@delta_theta))) +((delta_theta@delta_theta.T)/(delta_grad@delta_theta))\n",
        "        previous_theta = current_theta\n",
        "        current_theta = current_theta - self.learning_rate*(B_inv@current_grad)\n",
        "        current_grad,_ = self.first_derivative(self.data,self.target_label,current_theta)\n",
        "        previous_grad,__ = self.first_derivative(self.data,self.target_label,previous_theta)\n",
        "        i += 1\n",
        "    return i,current_theta,current_grad\n",
        "  def loss_vs_epochs(self):\n",
        "    plt.figure(figsize=(10,8))\n",
        "    plt.grid()\n",
        "    plt.plot(range(len(self.costs)),self.costs)\n",
        "    plt.scatter(range(len(self.costs)),self.costs)\n",
        "\n",
        "class Linear_Regression:\n",
        "\n",
        "    def cost(target_label,predicted_label,m):\n",
        "        error_vector = predicted_label.T - target_label\n",
        "        cost = (np.linalg.norm(error_vector) ** 2) / (m*2)\n",
        "        return cost,error_vector\n",
        "    def gradient_1(data,target_label,theta):\n",
        "        m = data.shape[0]\n",
        "        predicted_label = data@theta\n",
        "  #predicted_label = predicted_label.T\n",
        "        error_vector = predicted_label - target_label\n",
        "        cost = (np.linalg.norm(error_vector) ** 2) / (m*2)\n",
        "        D_theta = (error_vector.T@data) / m\n",
        "        return D_theta.T,cost\n",
        "    def gradient_2(data):\n",
        "        m = data.shape[0]\n",
        "        D_theta_2 = data.T@data / m\n",
        "        return D_theta_2\n",
        "\n"
      ],
      "metadata": {
        "id": "bdktqnxBI6NU"
      },
      "execution_count": 87,
      "outputs": []
    },
    {
      "cell_type": "code",
      "source": [
        "opt = BFGS(X,y,Linear_Regression.gradient_1,)\n",
        "i,theta,grad = opt.optimize()\n",
        "r2_score(y,data@theta)"
      ],
      "metadata": {
        "colab": {
          "base_uri": "https://localhost:8080/"
        },
        "id": "1B4yfRzJJFKZ",
        "outputId": "82b20475-52fa-4ec6-e6d1-5b8447b647bb"
      },
      "execution_count": 88,
      "outputs": [
        {
          "output_type": "execute_result",
          "data": {
            "text/plain": [
              "0.9896615774278573"
            ]
          },
          "metadata": {},
          "execution_count": 88
        }
      ]
    },
    {
      "cell_type": "code",
      "source": [
        "opt.loss_vs_epochs()"
      ],
      "metadata": {
        "colab": {
          "base_uri": "https://localhost:8080/",
          "height": 483
        },
        "id": "JkDgarw7JS9_",
        "outputId": "72641de2-8811-47ff-9871-d9b7e9a4f554"
      },
      "execution_count": 89,
      "outputs": [
        {
          "output_type": "display_data",
          "data": {
            "text/plain": [
              "<Figure size 720x576 with 1 Axes>"
            ],
            "image/png": "[encoded data removed]"
          },
          "metadata": {
            "needs_background": "light"
          }
        }
      ]
    },
    {
      "cell_type": "code",
      "source": [],
      "metadata": {
        "id": "1koQVVeiJVjO"
      },
      "execution_count": null,
      "outputs": []
    }
  ]
}